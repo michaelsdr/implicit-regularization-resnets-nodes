{
 "cells": [
  {
   "cell_type": "code",
   "execution_count": 1,
   "metadata": {},
   "outputs": [],
   "source": [
    "import torch\n",
    "\n",
    "from implicit_regularization_resnets_nodes.resnet import *\n",
    "depth = 256\n",
    "lr = 4e-2\n",
    "formatted_lr = \"{:.0e}\".format(lr)\n",
    "use_bn = True\n",
    "smooth_init = True\n",
    "adaptive = False\n",
    "planes = 16\n",
    "seed = 0\n"
   ]
  },
  {
   "cell_type": "code",
   "execution_count": 2,
   "metadata": {
    "tags": []
   },
   "outputs": [],
   "source": [
    "# Select the non linearity: can be either 'Gelu' or 'ReLU'\n",
    "non_lin = 'gelu'\n"
   ]
  },
  {
   "cell_type": "code",
   "execution_count": 3,
   "metadata": {},
   "outputs": [],
   "source": [
    "net = iTinyResnet(\n",
    "    depth,\n",
    "    in_planes=planes,\n",
    "    use_bn=use_bn,\n",
    "    non_lin=non_lin, \n",
    "    )"
   ]
  },
  {
   "cell_type": "code",
   "execution_count": 4,
   "metadata": {},
   "outputs": [
    {
     "name": "stdout",
     "output_type": "stream",
     "text": [
      "we initialize the inner weights smoothly\n"
     ]
    }
   ],
   "source": [
    "if smooth_init:\n",
    "    print(\"we initialize the inner weights smoothly\")\n",
    "    state_dict = net.state_dict()\n",
    "    modules = ['conv1', 'conv2', 'bn1', 'bn2'] if use_bn else ['conv1', 'conv2']\n",
    "    for i in range(1, depth):\n",
    "        for n in modules:\n",
    "            for m in ['weight', 'bias']:\n",
    "                state_dict['residual_layers.%d.%s.%s'%(i, n, m)] = state_dict['residual_layers.0.%s.%s'%(n, m)]\n",
    "    net.load_state_dict(state_dict)"
   ]
  },
  {
   "cell_type": "code",
   "execution_count": 5,
   "metadata": {},
   "outputs": [
    {
     "name": "stdout",
     "output_type": "stream",
     "text": [
      "==> Resuming from checkpoint..\n"
     ]
    },
    {
     "data": {
      "text/plain": [
       "<All keys matched successfully>"
      ]
     },
     "execution_count": 5,
     "metadata": {},
     "output_type": "execute_result"
    }
   ],
   "source": [
    "# Load checkpoint.\n",
    "print(\"==> Resuming from checkpoint..\")\n",
    "checkpoint_name = \"./checkpoint/ckpt_lr_%s_depth_%s_seed_%s_use_bn_%s_smooth_init_%s_adaptive_%s_non_lin_%s.pth\" % (formatted_lr, depth, seed, use_bn, smooth_init, adaptive, non_lin)\n",
    "\n",
    "checkpoint = torch.load(checkpoint_name, map_location=torch.device('cpu')\n",
    ")\n",
    "\n",
    "net.load_state_dict(checkpoint[\"net\"])"
   ]
  },
  {
   "cell_type": "code",
   "execution_count": 6,
   "metadata": {},
   "outputs": [
    {
     "data": {
      "text/plain": [
       "(81.28, 82.204)"
      ]
     },
     "execution_count": 6,
     "metadata": {},
     "output_type": "execute_result"
    }
   ],
   "source": [
    "max(checkpoint['log_dict']['test_acc']), max(checkpoint['log_dict']['train_acc'])"
   ]
  },
  {
   "cell_type": "code",
   "execution_count": 7,
   "metadata": {},
   "outputs": [],
   "source": [
    "import numpy as np\n",
    "import matplotlib.pyplot as plt"
   ]
  },
  {
   "cell_type": "code",
   "execution_count": 8,
   "metadata": {},
   "outputs": [],
   "source": [
    "# not a clean way to gather all the convolution matrices\n",
    "\n",
    "conv1_flatten = []\n",
    "for i in range(depth):\n",
    "    conv1_flatten.append(net.state_dict()['residual_layers.%d.conv1.weight'%i].flatten().numpy())\n",
    "conv1_flatten = np.array(conv1_flatten)\n",
    "\n",
    "conv2_flatten = []\n",
    "for i in range(depth):\n",
    "    conv2_flatten.append(net.state_dict()['residual_layers.%d.conv2.weight'%i].flatten().numpy())\n",
    "conv2_flatten = np.array(conv2_flatten)"
   ]
  },
  {
   "cell_type": "code",
   "execution_count": 9,
   "metadata": {},
   "outputs": [],
   "source": [
    "# Let's display the smoothness of the convolution at random indices across depth"
   ]
  },
  {
   "cell_type": "code",
   "execution_count": 10,
   "metadata": {
    "tags": []
   },
   "outputs": [
    {
     "data": {
      "image/png": "[encoded data removed]",
      "text/plain": [
       "<Figure size 421.2x234 with 1 Axes>"
      ]
     },
     "metadata": {
      "needs_background": "light"
     },
     "output_type": "display_data"
    }
   ],
   "source": [
    "n_plot = 1\n",
    "\n",
    "index = np.random.choice(conv1_flatten.shape[0], n_plot)  \n",
    "\n",
    "\n",
    "a, b = 4.5, 2.5\n",
    "p = 1.3\n",
    "lw = .3\n",
    "ms = .2\n",
    "\n",
    "color1 = '#9467BD'  # Purple\n",
    "color2 =  plt.cm.viridis(.6) #'#FFA500'  # Yellow-Orange\n",
    "\n",
    "plt.figure(figsize=(p * a, p * b))\n",
    "\n",
    "plt.plot(conv1_flatten[:, index], color=color2, label=\"$i=1$\")\n",
    "plt.xlabel(\"Layer $k$\")\n",
    "plt.grid(True)\n",
    "plt.tight_layout()\n",
    "\n",
    "plt.plot(conv2_flatten[:, index], color=color1, label=\"$i=2$\")\n",
    "plt.xlabel(\"Layer $k$\")\n",
    "plt.ylabel('A coeff. of $\\mathrm{conv_{i,k}^L}$')\n",
    "plt.grid(True)\n",
    "plt.legend()\n",
    "plt.tight_layout()\n",
    "\n",
    "plt.show()\n",
    "\n"
   ]
  },
  {
   "cell_type": "code",
   "execution_count": null,
   "metadata": {},
   "outputs": [],
   "source": []
  },
  {
   "cell_type": "code",
   "execution_count": null,
   "metadata": {},
   "outputs": [],
   "source": []
  }
 ],
 "metadata": {
  "kernelspec": {
   "display_name": "Python 3 (ipykernel)",
   "language": "python",
   "name": "python3"
  },
  "language_info": {
   "codemirror_mode": {
    "name": "ipython",
    "version": 3
   },
   "file_extension": ".py",
   "mimetype": "text/x-python",
   "name": "python",
   "nbconvert_exporter": "python",
   "pygments_lexer": "ipython3",
   "version": "3.9.7"
  }
 },
 "nbformat": 4,
 "nbformat_minor": 4
}
